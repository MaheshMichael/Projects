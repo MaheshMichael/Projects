{
 "cells": [
  {
   "cell_type": "code",
   "execution_count": 152,
   "metadata": {},
   "outputs": [],
   "source": [
    "summary_dict = {\"slides\":[{\"slide_type\":\"First_slide\",\"title\":\"Tax Analysis\",\"subtitle\":\"Permanent Establishment Risk\"},{\"slide_type\":\"Second_slide\",\"title\":\"Introduction\"},{\"slide_type\":\"Third_slide\",\"title\":\"Introduction\",\"content\":\"This presentation analyzes the risk of a Permanent Establishment (PE) for a Company due to hiring an individual in Poland for a specific regional role. The analysis relies on key legislative frameworks: the Polish Corporate Income Tax Act, the Double Taxation Treaty between Poland and another country, and the OECD Model Tax Convention. Additionally, recent tax authority rulings and OECD BEPS recommendations related to PE are considered. The analysis incorporates information from Company representatives, documentation, and legal consultations with EY Law Team. It evaluates whether the individual's activities for the Company could create a PE under the Polish-foreign Double Tax Treaty concepts, determining that the work may not create a PE in Poland due to its task-oriented nature, flexibility in location, and absence of physical premises in Poland provided by the Company. Nonetheless, the potential for tax authorities to apply a different approach cannot be fully excluded. Exemptions from PE apply to activities of an auxiliary or preparatory nature, suggesting the individual's duties may fall under these exceptions. The presentation concludes that individual tax rulings may be sought to fully negate PE risk.\"},{\"slide_type\":\"Fourth_slide\",\"title\":\"Executive Summary\"},{\"slide_type\":\"Fifth_slide\",\"title\":\"Executive Summary\",\"content\":\"Based on provided backgrounds, the individual's activities for the Company likely do not establish a PE in Poland according to the Polish-foreign DTT concepts. Key arguments include the lack of a physical 'place of business' in Poland, as tasks are location-flexible and customer meetings span a region rather than being Poland-specific. No Company premises are offered for the individual, reinforcing a home-office model. However, there's a residual risk of tax authorities adopting an alternate interpretation to assess PE presence. Should this occur, it might be argued that the individual's activities could be exempt as auxiliary or preparatory according to the DTT, not being core to the main business effort, and lacking direct revenue impact. The support role provided doesn't include execution or arrangement of customer agreements. Agency PE is also unlikely as there's no authority or habitual exercise of Company power by the employee. To thoroughly mitigate PE risk, seeking individual tax rulings with a typical 3-month processing period is advisable.\"},{\"slide_type\":\"Sixth_slide\",\"title\":\"Background: Company and Position\",\"content\":{\"placeholder_1\":[\"The Company, a foreign entity specializing in technical textiles for protective and composite applications, seeks to hire an individual in Poland due to their expertise. This individual's residence is insignificant to job responsibilities, which could similarly apply in any other country within the region.\",\"The Company has no existing Polish presence—no offices or branches. The employment is under Polish Labour Law, with documents being finalized. The position's key role is customer engagement across the region, without tying responsibilities to Polish territory.\"],\"placeholder_2\":[\"The engagement involves presenting Company products, aiding in customer understanding, and gathering feedback without concluding contracts or engaging in sales negotiation—preserving indirect influence on Company activities.\",\"Work involves a home-office model with the individual using personal space and equipment provided by the Company. Travel for customer interaction is part of job duties, not constrained to Polish borders, underscoring regional rather than location-specific focus.\",\"The task-centric model does not prescribe specific daily working hours, emphasizing result-oriented output over time-bound office presence. The role excludes negotiation involvement, contract execution, or direct Company representation.\"]}},{\"slide_type\":\"Seventh_slide\",\"title\":\"Tax Comments: Permanent Establishment Analysis\",\"content\":[\"Under the Polish CIT Act, non-resident companies face Polish tax only if income is linked to a local PE. The Company, as a foreign tax resident, falls under limited liability, hence only Polish-derived income becomes taxable. CIT defines PE as a permanent setup through which business is conducted in another state—encompassing branches, offices, or similar structural presence.\",\"PE analysis relies mainly on DTT interpretations. The Polish-foreign DTT, following OECD guidelines, stipulates a business can only be taxed in Poland if PE is evident via a fixed business site. A 'fixed place of business' denotes permanence with employee presence or specific business machinery.\",\"Exclusions from constituting a PE include auxiliary or preparatory activities. PE does not arise from mere storage, sampling, or info-gathering setups not crucial to the firm's core business. The company's Polish presence, solely due to employing a Polish resident for regional duties, is seen as auxiliary.\",\"Tax rulings shed light on non-creation of PE through remote work. Authorities previously ruled foreign companies lack local presence if activities are home-based. Employment in Poland, primarily for regional skill application without a traditional office, supports the non-PE argument.\",\"Non-existent Company premises in Poland affirm auxiliary status, with individual duties complementing core activity and distant from commercial responsibility. Exemptions apply if activities are non-essential to the global enterprise, solidifying non-PE positioning.\"]},{\"slide_type\":\"Eighth_slide\",\"title\":\"Conclusion and Recommendations\",\"content\":[\"The evidence suggests non-existence of a PE in Poland under the 'Fixed Place of Business' concept, protecting the Company from Polish tax obligations linked to local income. The individual’s home-setting work model, lacking specific business premises from the company, strengthens this defense.\",\"While current background suggests no significant commercial role warrants a PE, residual risks exist from potentially adversarial tax assessments. Companies are advised to seek individual tax rulings preemptively, clarifying tax liability positions and solidifying non-PE standing.\",\"Engaging in strategic legal counsel helps navigate the complexity of international taxation, ultimately ensuring that precautionary measures support the Company’s long-term regional employment strategies without unintended tax complications.\"]}]}"
   ]
  },
  {
   "cell_type": "code",
   "execution_count": 160,
   "metadata": {},
   "outputs": [
    {
     "name": "stdout",
     "output_type": "stream",
     "text": [
      "\n",
      "--- Placeholder Details ---\n",
      "Placeholder Name: Title 1, Index: 0\n",
      "Placeholder Name: Date Placeholder 2, Index: 10\n",
      "Placeholder Name: Footer Placeholder 3, Index: 11\n",
      "Placeholder Name: Slide Number Placeholder 4, Index: 12\n",
      "Placeholder Name: Content Placeholder 3, Index: 15\n"
     ]
    }
   ],
   "source": [
    "from pptx import Presentation\n",
    "\n",
    "template_path = '../pptx_templates/EYtemplate-simple.pptx'\n",
    "prs = Presentation(template_path)\n",
    "\n",
    "slide = prs.slides[7]\n",
    "\n",
    "# Print placeholder details\n",
    "print(\"\\n--- Placeholder Details ---\")\n",
    "for placeholder in slide.placeholders:\n",
    "    placeholder_idx = (\n",
    "        placeholder.placeholder_format.idx\n",
    "        if hasattr(placeholder, \"placeholder_format\")\n",
    "        else \"Unknown\"\n",
    "    )\n",
    "    print(f\"Placeholder Name: {placeholder.name}, Index: {placeholder_idx}\")"
   ]
  },
  {
   "cell_type": "code",
   "execution_count": null,
   "metadata": {},
   "outputs": [
    {
     "name": "stdout",
     "output_type": "stream",
     "text": [
      "Presentation saved successfully..\n"
     ]
    }
   ],
   "source": [
    "from pptx import Presentation\n",
    "\n",
    "prs = Presentation(template_path)\n",
    "\n",
    "# Updating slides with summary_dict data\n",
    "slides_data = summary_dict.get(\"slides\", [])\n",
    "\n",
    "slide = prs.slides[0]\n",
    "slide.placeholders[0].text = slides_data[0][\"title\"]\n",
    "slide.placeholders[1].text = slides_data[0][\"subtitle\"]\n",
    "\n",
    "slide = prs.slides[1]\n",
    "slide.placeholders[0].text = slides_data[1][\"title\"]\n",
    "\n",
    "\n",
    "slide = prs.slides[2]\n",
    "slide.placeholders[0].text = slides_data[2][\"title\"]\n",
    "slide.placeholders[16].text = slides_data[2][\"content\"]\n",
    "\n",
    "slide = prs.slides[3]\n",
    "slide.placeholders[0].text = slides_data[3][\"title\"]\n",
    "\n",
    "slide = prs.slides[4]\n",
    "slide.placeholders[0].text = slides_data[4][\"title\"]\n",
    "slide.placeholders[16].text = slides_data[4][\"content\"]\n",
    "\n",
    "slide = prs.slides[5]\n",
    "slide.placeholders[0].text = slides_data[5][\"title\"]\n",
    "slide.placeholders[16].text = \"\\n\".join(slides_data[5][\"content\"][\"placeholder_1\"])\n",
    "slide.placeholders[15].text = \"\\n\".join(slides_data[5][\"content\"][\"placeholder_2\"])\n",
    "\n",
    "slide = prs.slides[6]\n",
    "slide.placeholders[4294967295].text = \"\\n\".join(slides_data[6][\"content\"])\n",
    "\n",
    "slide = prs.slides[7]\n",
    "slide.placeholders[0].text = slides_data[7][\"title\"]\n",
    "slide.placeholders[15].text = \"\\n\".join(slides_data[7][\"content\"])\n",
    "\n",
    "prs.save('../output/Final.pptx')\n",
    "\n",
    "print(\"Presentation saved successfully..\")"
   ]
  },
  {
   "cell_type": "markdown",
   "metadata": {},
   "source": []
  },
  {
   "cell_type": "code",
   "execution_count": null,
   "metadata": {},
   "outputs": [],
   "source": []
  },
  {
   "cell_type": "code",
   "execution_count": null,
   "metadata": {},
   "outputs": [],
   "source": []
  },
  {
   "cell_type": "code",
   "execution_count": null,
   "metadata": {},
   "outputs": [],
   "source": []
  },
  {
   "cell_type": "code",
   "execution_count": null,
   "metadata": {},
   "outputs": [],
   "source": []
  },
  {
   "cell_type": "code",
   "execution_count": null,
   "metadata": {},
   "outputs": [],
   "source": []
  },
  {
   "cell_type": "code",
   "execution_count": null,
   "metadata": {},
   "outputs": [],
   "source": []
  },
  {
   "cell_type": "markdown",
   "metadata": {},
   "source": [
    "# Editing slides"
   ]
  },
  {
   "cell_type": "code",
   "execution_count": null,
   "metadata": {},
   "outputs": [],
   "source": [
    "from pptx import Presentation\n",
    "\n",
    "template_path = '../pptx_templates/Memo.pptx'\n",
    "prs = Presentation(template_path)"
   ]
  },
  {
   "cell_type": "markdown",
   "metadata": {},
   "source": [
    "## Slide 1"
   ]
  },
  {
   "cell_type": "code",
   "execution_count": null,
   "metadata": {},
   "outputs": [
    {
     "name": "stdout",
     "output_type": "stream",
     "text": [
      "\n",
      "--- Shape Details ---\n",
      "Shape Name: Subtitle 4, Type: PLACEHOLDER (14)\n",
      "Shape Name: Title 9, Type: PLACEHOLDER (14)\n",
      "Shape Name: Text Placeholder 5, Type: PLACEHOLDER (14)\n",
      "\n",
      "--- Placeholder Details ---\n",
      "Placeholder Name: Title 9, Index: 0\n",
      "Placeholder Name: Subtitle 4, Index: 1\n",
      "Placeholder Name: Text Placeholder 5, Index: 10\n"
     ]
    }
   ],
   "source": [
    "# Select the first slide\n",
    "slide = prs.slides[0]\n",
    "\n",
    "# Print shape details\n",
    "print(\"\\n--- Shape Details ---\")\n",
    "for shape in slide.shapes:\n",
    "    shape_type = shape.shape_type if hasattr(shape, 'shape_type') else \"Unknown\"\n",
    "    print(f\"Shape Name: {shape.name}, Type: {shape_type}\")\n",
    "\n",
    "# Print placeholder details\n",
    "print(\"\\n--- Placeholder Details ---\")\n",
    "for placeholder in slide.placeholders:\n",
    "    placeholder_idx = (\n",
    "        placeholder.placeholder_format.idx\n",
    "        if hasattr(placeholder, \"placeholder_format\")\n",
    "        else \"Unknown\"\n",
    "    )\n",
    "    print(f\"Placeholder Name: {placeholder.name}, Index: {placeholder_idx}\")"
   ]
  },
  {
   "cell_type": "code",
   "execution_count": 59,
   "metadata": {},
   "outputs": [],
   "source": [
    "slide.placeholders[0].text = \"This is a Big Text here......\"\n",
    "slide.placeholders[1].text = \"Subtitle from Python\"\n",
    "slide.placeholders[10].text = \"Subsubtitle from Python 2\""
   ]
  },
  {
   "cell_type": "code",
   "execution_count": 60,
   "metadata": {},
   "outputs": [
    {
     "name": "stdout",
     "output_type": "stream",
     "text": [
      "Presentation saved successfully..\n"
     ]
    }
   ],
   "source": [
    "prs.save('../output/test.pptx')\n",
    "\n",
    "print(\"Presentation saved successfully..\")"
   ]
  },
  {
   "cell_type": "markdown",
   "metadata": {},
   "source": [
    "## Slide 2"
   ]
  },
  {
   "cell_type": "code",
   "execution_count": 44,
   "metadata": {},
   "outputs": [
    {
     "name": "stdout",
     "output_type": "stream",
     "text": [
      "\n",
      "--- Shape Details ---\n",
      "Shape Name: Title 1, Type: PLACEHOLDER (14)\n",
      "Shape Name: Text Placeholder 35, Type: PLACEHOLDER (14)\n",
      "Shape Name: Date Placeholder 2, Type: PLACEHOLDER (14)\n",
      "Shape Name: Footer Placeholder 17, Type: PLACEHOLDER (14)\n",
      "Shape Name: Slide Number Placeholder 18, Type: PLACEHOLDER (14)\n",
      "\n",
      "--- Placeholder Details ---\n",
      "Placeholder Name: Title 1, Index: 0\n",
      "Placeholder Name: Text Placeholder 35, Index: 15\n",
      "Placeholder Name: Date Placeholder 2, Index: 16\n",
      "Placeholder Name: Footer Placeholder 17, Index: 17\n",
      "Placeholder Name: Slide Number Placeholder 18, Index: 18\n"
     ]
    }
   ],
   "source": [
    "# Ensure there is a second slide before accessing it\n",
    "if len(prs.slides) > 1:\n",
    "    slide = prs.slides[1]\n",
    "    \n",
    "    # Print shape details\n",
    "    print(\"\\n--- Shape Details ---\")\n",
    "    for shape in slide.shapes:\n",
    "        shape_type = getattr(shape, \"shape_type\", \"Unknown\")\n",
    "        print(f\"Shape Name: {shape.name}, Type: {shape_type}\")\n",
    "\n",
    "    # Print placeholder details\n",
    "    print(\"\\n--- Placeholder Details ---\")\n",
    "    for placeholder in slide.placeholders:\n",
    "        placeholder_idx = getattr(placeholder.placeholder_format, \"idx\", \"Unknown\")\n",
    "        print(f\"Placeholder Name: {placeholder.name}, Index: {placeholder_idx}\")\n",
    "\n",
    "else:\n",
    "    print(\"Error: Slide 2 does not exist in the presentation.\")"
   ]
  },
  {
   "cell_type": "code",
   "execution_count": 45,
   "metadata": {},
   "outputs": [],
   "source": [
    "slide.placeholders[0].text = \"Content 23451 from Python\"\n",
    "slide.placeholders[15].text = \"Lorem ipsum 2324135135 ...\""
   ]
  },
  {
   "cell_type": "code",
   "execution_count": 46,
   "metadata": {},
   "outputs": [
    {
     "name": "stdout",
     "output_type": "stream",
     "text": [
      "Presentation saved successfully..\n"
     ]
    }
   ],
   "source": [
    "prs.save('../output/test.pptx')\n",
    "\n",
    "print(\"Presentation saved successfully..\")"
   ]
  },
  {
   "cell_type": "markdown",
   "metadata": {},
   "source": [
    "## Slide 3"
   ]
  },
  {
   "cell_type": "code",
   "execution_count": 47,
   "metadata": {},
   "outputs": [
    {
     "name": "stdout",
     "output_type": "stream",
     "text": [
      "\n",
      "--- Shape Details ---\n",
      "Shape Name: Title 1, Type: PLACEHOLDER (14)\n",
      "Shape Name: Text Placeholder 35, Type: PLACEHOLDER (14)\n",
      "Shape Name: Date Placeholder 2, Type: PLACEHOLDER (14)\n",
      "Shape Name: Footer Placeholder 17, Type: PLACEHOLDER (14)\n",
      "Shape Name: Slide Number Placeholder 18, Type: PLACEHOLDER (14)\n",
      "\n",
      "--- Placeholder Details ---\n",
      "Placeholder Name: Title 1, Index: 0\n",
      "Placeholder Name: Text Placeholder 35, Index: 15\n",
      "Placeholder Name: Date Placeholder 2, Index: 16\n",
      "Placeholder Name: Footer Placeholder 17, Index: 17\n",
      "Placeholder Name: Slide Number Placeholder 18, Index: 18\n"
     ]
    }
   ],
   "source": [
    "# Ensure the presentation has at least 3 slides\n",
    "if len(prs.slides) > 2:\n",
    "    slide = prs.slides[2]\n",
    "    \n",
    "    print(\"\\n--- Shape Details ---\")\n",
    "    for shape in slide.shapes:\n",
    "        shape_type = getattr(shape, \"shape_type\", \"Unknown\")\n",
    "        print(f\"Shape Name: {shape.name}, Type: {shape_type}\")\n",
    "\n",
    "    print(\"\\n--- Placeholder Details ---\")\n",
    "    for placeholder in slide.placeholders:\n",
    "        placeholder_idx = getattr(placeholder.placeholder_format, \"idx\", \"Unknown\")\n",
    "        print(f\"Placeholder Name: {placeholder.name}, Index: {placeholder_idx}\")\n",
    "\n",
    "else:\n",
    "    print(\"Error: Slide 3 does not exist in the presentation.\")"
   ]
  },
  {
   "cell_type": "code",
   "execution_count": 48,
   "metadata": {},
   "outputs": [],
   "source": [
    "slide.placeholders[0].text = \"Content 2 from Python\"\n",
    "slide.placeholders[17].text = \"Contents fon the info\"\n",
    "slide.placeholders[15].text = \"Lorem ipsum 2 123123123...\""
   ]
  },
  {
   "cell_type": "code",
   "execution_count": 49,
   "metadata": {},
   "outputs": [],
   "source": [
    "prs.save('../output/test.pptx')"
   ]
  },
  {
   "cell_type": "markdown",
   "metadata": {},
   "source": [
    "# Adding slides"
   ]
  },
  {
   "cell_type": "code",
   "execution_count": 50,
   "metadata": {},
   "outputs": [
    {
     "name": "stdout",
     "output_type": "stream",
     "text": [
      "\n",
      "--- Available Slide Layouts ---\n",
      "Layout 0: Title and Content\n",
      "Layout 1: Two Content\n",
      "Layout 2: Three Content\n",
      "Layout 3: Three Content with Highlight\n",
      "Layout 4: Content and Image\n",
      "Layout 5: Key Numbers\n",
      "Layout 6: Video and Caption\n",
      "Layout 7: Team\n",
      "Layout 8: Title Only\n",
      "Layout 9: Title Only without line\n"
     ]
    }
   ],
   "source": [
    "print(\"\\n--- Available Slide Layouts ---\")\n",
    "for i, layout in enumerate(prs.slide_layouts):\n",
    "    layout_name = layout.name if layout.name else \"Unnamed Layout\"\n",
    "    print(f\"Layout {i}: {layout_name}\")"
   ]
  },
  {
   "cell_type": "code",
   "execution_count": 51,
   "metadata": {},
   "outputs": [
    {
     "name": "stdout",
     "output_type": "stream",
     "text": [
      "Added a new slide with layout: Title and Content\n"
     ]
    }
   ],
   "source": [
    "# Select the first slide layout (usually the Title Slide layout)\n",
    "slide_layout = prs.slide_layouts[0]\n",
    "\n",
    "# Add a new slide to the presentation\n",
    "slide = prs.slides.add_slide(slide_layout)\n",
    "\n",
    "# Optional: Check if the slide was added correctly\n",
    "print(f\"Added a new slide with layout: {slide_layout.name or 'Unnamed Layout'}\")"
   ]
  },
  {
   "cell_type": "markdown",
   "metadata": {},
   "source": [
    "## Title"
   ]
  },
  {
   "cell_type": "code",
   "execution_count": 52,
   "metadata": {},
   "outputs": [],
   "source": [
    "title_placeholder = slide.shapes.title\n",
    "title_placeholder.text = \"Title from Python!\""
   ]
  },
  {
   "cell_type": "markdown",
   "metadata": {},
   "source": [
    "## Content"
   ]
  },
  {
   "cell_type": "code",
   "execution_count": 53,
   "metadata": {},
   "outputs": [
    {
     "data": {
      "text/plain": [
       "'Title from Python!'"
      ]
     },
     "execution_count": 53,
     "metadata": {},
     "output_type": "execute_result"
    }
   ],
   "source": [
    "content = slide.placeholders[0]\n",
    "content.text"
   ]
  },
  {
   "cell_type": "code",
   "execution_count": 54,
   "metadata": {},
   "outputs": [],
   "source": [
    "prs.save('../output/test.pptx')"
   ]
  },
  {
   "cell_type": "code",
   "execution_count": 55,
   "metadata": {},
   "outputs": [
    {
     "name": "stdout",
     "output_type": "stream",
     "text": [
      "Updated PowerPoint saved as updated_presentation.pptx\n"
     ]
    }
   ],
   "source": [
    "from pptx import Presentation\n",
    "\n",
    "def update_table_in_pptx(pptx_path, slide_index, table_index, new_data):\n",
    "    \"\"\"\n",
    "    Updates a table in an existing PowerPoint slide.\n",
    "\n",
    "    Parameters:\n",
    "    - pptx_path (str): Path to the PowerPoint file.\n",
    "    - slide_index (int): Index of the slide containing the table.\n",
    "    - table_index (int): Index of the table in the slide.\n",
    "    - new_data (list of lists): Data to update the table (row-wise).\n",
    "    \"\"\"\n",
    "    prs = Presentation(pptx_path)\n",
    "    slide = prs.slides[slide_index]\n",
    "\n",
    "    # Find the table shape\n",
    "    tables = [shape for shape in slide.shapes if shape.has_table]\n",
    "    \n",
    "    if table_index >= len(tables):\n",
    "        print(\"Table index out of range!\")\n",
    "        return\n",
    "    \n",
    "    table = tables[table_index].table\n",
    "\n",
    "    # Update table data\n",
    "    for row_idx, row_data in enumerate(new_data):\n",
    "        for col_idx, cell_data in enumerate(row_data):\n",
    "            try:\n",
    "                table.cell(row_idx, col_idx).text = str(cell_data)\n",
    "            except IndexError:\n",
    "                print(f\"Skipping: Row {row_idx}, Col {col_idx} out of range.\")\n",
    "\n",
    "    # Save updated presentation\n",
    "    updated_pptx_path = \"updated_presentation.pptx\"\n",
    "    prs.save(updated_pptx_path)\n",
    "    print(f\"Updated PowerPoint saved as {updated_pptx_path}\")\n",
    "\n",
    "# Example usage\n",
    "new_table_data = [\n",
    "    [\"Header 1\", \"Header 2\", \"Header 3\"],\n",
    "    [\"Row 1 Data 1\", \"Row 1 Data 2\", \"Row 1 Data 3\"],\n",
    "    [\"Row 2 Data 1\", \"Row 2 Data 2\", \"Row 2 Data 3\"]\n",
    "]\n",
    "\n",
    "\n",
    "update_table_in_pptx(template_path, slide_index=4, table_index=0, new_data=new_table_data)"
   ]
  }
 ],
 "metadata": {
  "kernelspec": {
   "display_name": "venv",
   "language": "python",
   "name": "python3"
  },
  "language_info": {
   "codemirror_mode": {
    "name": "ipython",
    "version": 3
   },
   "file_extension": ".py",
   "mimetype": "text/x-python",
   "name": "python",
   "nbconvert_exporter": "python",
   "pygments_lexer": "ipython3",
   "version": "3.12.7"
  }
 },
 "nbformat": 4,
 "nbformat_minor": 2
}
